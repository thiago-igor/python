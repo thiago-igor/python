{
 "cells": [
  {
   "cell_type": "markdown",
   "id": "3deabdc9",
   "metadata": {},
   "source": [
    "IFCE - Maracanaú\n",
    "\n",
    "Aluno: Renan Carneiro Batista                    Matrícula: 20201045050457\n",
    "Aluno: Thiago Igor                                       Matrícula:                                                                         \n",
    "DISCIPLINA:  Inteligência Artificial              Data:  15 / 02/ 2023                                                                    \n",
    "PROF.: Darielson A. Souza             \n",
    "Trabalho 2 – N1 \n",
    "O trabalho valerá ponto para a primeira parte da N1, que pode ser feito de DUPLA e enviado com a linguagem de sua preferencia até às 23h59 do dia 18.02.2023 para o e-mail: professordarielson@gmail.com com assunto “Trabalho 2 – N1- IA-Manhã”"
   ]
  },
  {
   "cell_type": "markdown",
   "id": "e820f988",
   "metadata": {},
   "source": [
    "1ª QUESTÃO: \n",
    "Dado 2 pontos em um espaço: A(10, 1, 3) e B(4, 5, 4). Implemente a distancia de manhattan entre estes dois pontos?"
   ]
  },
  {
   "cell_type": "code",
   "execution_count": 8,
   "id": "882ad0dd",
   "metadata": {},
   "outputs": [],
   "source": [
    "def dist_manhattan(a, b):\n",
    "    soma = 0\n",
    "    \n",
    "    for i in range(len(a)):\n",
    "        sub = abs(A[i] - B[i])\n",
    "        soma += sub\n",
    "\n",
    "    return soma"
   ]
  },
  {
   "cell_type": "code",
   "execution_count": 9,
   "id": "7420abc6",
   "metadata": {},
   "outputs": [
    {
     "name": "stdout",
     "output_type": "stream",
     "text": [
      "1\n"
     ]
    }
   ],
   "source": [
    "A = [10, 1, 3]\n",
    "B = [4, 5, 4]\n",
    "\n",
    "print(dist_manhattan(A, B))"
   ]
  },
  {
   "cell_type": "markdown",
   "id": "29c08656",
   "metadata": {},
   "source": [
    "2ª QUESTÃO: \n",
    "Dado 2 pontos em um espaço: A(12, 10) e B(11, 21). Implemente a distancia de euclidiana entre estes dois pontos?"
   ]
  },
  {
   "cell_type": "code",
   "execution_count": 10,
   "id": "e2ff88d2",
   "metadata": {},
   "outputs": [],
   "source": [
    "import math\n",
    "\n",
    "def dist_euclidiana(a, b):\n",
    "    soma = 0\n",
    "    \n",
    "    for i in range(len(a)):\n",
    "        sub = a[i] - b[i]\n",
    "        soma += math.pow(sub, 2)\n",
    "    \n",
    "    return math.sqrt(soma)"
   ]
  },
  {
   "cell_type": "code",
   "execution_count": 11,
   "id": "8e97c811",
   "metadata": {},
   "outputs": [
    {
     "name": "stdout",
     "output_type": "stream",
     "text": [
      "11.045361017187261\n"
     ]
    }
   ],
   "source": [
    "A = [12, 10]\n",
    "B = [11, 21]\n",
    "\n",
    "print(dist_euclidiana(A, B))"
   ]
  },
  {
   "cell_type": "markdown",
   "id": "ce4aeece",
   "metadata": {},
   "source": [
    "3ª QUESTÂO:\n",
    "Dado 2 pontos em um espaço: A(12, 10, 2, 23) e B(11, 21, 4, 8). Implemente a distancia de Chebyshev entre estes dois pontos?"
   ]
  },
  {
   "cell_type": "code",
   "execution_count": 16,
   "id": "21e8b068",
   "metadata": {},
   "outputs": [],
   "source": [
    "def dist_chebyshev(a, b):\n",
    "    lista_valores = []\n",
    "    \n",
    "    for i in range(len(a)):\n",
    "        sub = abs(A[i] - B[i])\n",
    "        lista_valores.append(sub)\n",
    "\n",
    "    return max(lista_valores)"
   ]
  },
  {
   "cell_type": "code",
   "execution_count": 17,
   "id": "df26a956",
   "metadata": {},
   "outputs": [
    {
     "name": "stdout",
     "output_type": "stream",
     "text": [
      "15\n"
     ]
    }
   ],
   "source": [
    "A = [12, 10, 2, 23]\n",
    "B = [11, 21, 4, 8]\n",
    "\n",
    "print(dist_chebyshev(A, B))"
   ]
  },
  {
   "cell_type": "code",
   "execution_count": null,
   "id": "39f80705",
   "metadata": {},
   "outputs": [],
   "source": []
  }
 ],
 "metadata": {
  "kernelspec": {
   "display_name": "Python 3",
   "language": "python",
   "name": "python3"
  },
  "language_info": {
   "codemirror_mode": {
    "name": "ipython",
    "version": 3
   },
   "file_extension": ".py",
   "mimetype": "text/x-python",
   "name": "python",
   "nbconvert_exporter": "python",
   "pygments_lexer": "ipython3",
   "version": "3.11.2"
  },
  "vscode": {
   "interpreter": {
    "hash": "342c170c256ef0711d318a4673d0fd51c85381a3b9385eedcdd9232bb28cbb6d"
   }
  }
 },
 "nbformat": 4,
 "nbformat_minor": 5
}
